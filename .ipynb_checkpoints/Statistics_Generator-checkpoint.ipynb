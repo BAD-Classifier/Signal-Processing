{
 "cells": [
  {
   "cell_type": "code",
   "execution_count": 17,
   "metadata": {},
   "outputs": [],
   "source": [
    "import sys\n",
    "import numpy\n",
    "from scipy.fftpack import dct\n",
    "import scipy.io.wavfile\n",
    "import time\n",
    "import matplotlib.pyplot as plt\n",
    "import matplotlib.cm as cm\n",
    "import matplotlib as mpl\n",
    "import librosa\n",
    "import librosa.display\n",
    "\n",
    "from pydub import AudioSegment\n",
    "import glob\n",
    "import os"
   ]
  },
  {
   "cell_type": "code",
   "execution_count": 43,
   "metadata": {},
   "outputs": [
    {
     "name": "stdout",
     "output_type": "stream",
     "text": [
      "Number of records: 5956\n",
      "3729\n",
      "9685\n",
      "9685\n",
      "9685\n"
     ]
    }
   ],
   "source": [
    "greatest_hits = glob.glob(\"/home/iordan/Documents/Bird Life/*/*.mp3\")\n",
    "number_records = len(greatest_hits)\n",
    "print(\"Number of records: \" + str(number_records))  #minus folders\n",
    "\n",
    "\n",
    "w_list = ['']  \n",
    "x_list = [''] \n",
    "y_list = [''] \n",
    "z_list = [''] \n",
    "count = 0;\n",
    "for current_recording in greatest_hits:\n",
    "    count += 1\n",
    "    index = current_recording.rfind('/') + 1\n",
    "    current_recording = current_recording[index:-4]\n",
    "    if len(current_recording.split('-')) > 4:\n",
    "        record = current_recording.split('-')\n",
    "        w = record[0]\n",
    "        x = record[1]\n",
    "        z = record[-1]\n",
    "        del record[0]\n",
    "        del record[1]\n",
    "        del record[-1]\n",
    "        y = ''.join(record)\n",
    "        w_list.append(w)\n",
    "        x_list.append(x)\n",
    "        y_list.append(y)\n",
    "        z_list.append(z)\n",
    "    else:\n",
    "        w, x, y, z = current_recording.split('-')\n",
    "        w_list.append(w)\n",
    "        x_list.append(x)\n",
    "        y_list.append(y)\n",
    "        z_list.append(z)\n",
    "\n",
    "print(len(w_list) - number_records)\n",
    "print(len(x_list))\n",
    "print(len(y_list))\n",
    "print(len(z_list))"
   ]
  },
  {
   "cell_type": "code",
   "execution_count": null,
   "metadata": {},
   "outputs": [],
   "source": []
  }
 ],
 "metadata": {
  "kernelspec": {
   "display_name": "Python 3",
   "language": "python",
   "name": "python3"
  },
  "language_info": {
   "codemirror_mode": {
    "name": "ipython",
    "version": 3
   },
   "file_extension": ".py",
   "mimetype": "text/x-python",
   "name": "python",
   "nbconvert_exporter": "python",
   "pygments_lexer": "ipython3",
   "version": "3.6.5"
  }
 },
 "nbformat": 4,
 "nbformat_minor": 2
}

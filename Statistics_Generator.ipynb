{
 "cells": [
  {
   "cell_type": "code",
   "execution_count": 48,
   "metadata": {},
   "outputs": [],
   "source": [
    "import sys\n",
    "import numpy\n",
    "from scipy.fftpack import dct\n",
    "import scipy.io.wavfile\n",
    "import time\n",
    "import matplotlib.pyplot as plt\n",
    "import matplotlib.cm as cm\n",
    "import matplotlib as mpl\n",
    "import librosa\n",
    "import librosa.display\n",
    "\n",
    "from pydub import AudioSegment\n",
    "import glob\n",
    "import os\n",
    "from collections import Counter"
   ]
  },
  {
   "cell_type": "code",
   "execution_count": 46,
   "metadata": {},
   "outputs": [
    {
     "name": "stdout",
     "output_type": "stream",
     "text": [
      "Number of records: 5956\n",
      "5956\n",
      "5956\n",
      "5956\n",
      "5956\n"
     ]
    }
   ],
   "source": [
    "greatest_hits = glob.glob(\"/home/iordan/Documents/Bird Life/*/*.mp3\")\n",
    "number_records = len(greatest_hits)\n",
    "print(\"Number of records: \" + str(number_records))  #minus folders\n",
    "\n",
    "\n",
    "w_list = []  \n",
    "x_list = [] \n",
    "y_list = [] \n",
    "z_list = [] \n",
    "count = 0;\n",
    "for current_recording in greatest_hits:\n",
    "    count += 1\n",
    "    index = current_recording.rfind('/') + 1\n",
    "    current_recording = current_recording[index:-4]\n",
    "    if len(current_recording.split('-')) > 4:\n",
    "        record = current_recording.split('-')\n",
    "        w = record[0]\n",
    "        x = record[1]\n",
    "        z = record[-1]\n",
    "        del record[0]\n",
    "        del record[1]\n",
    "        del record[-1]\n",
    "        y = ''.join(record)\n",
    "        w_list.append(w)\n",
    "        x_list.append(x)\n",
    "        y_list.append(y)\n",
    "        z_list.append(z)\n",
    "    else:\n",
    "        w, x, y, z = current_recording.split('-')\n",
    "        w_list.append(w)\n",
    "        x_list.append(x)\n",
    "        y_list.append(y)\n",
    "        z_list.append(z)\n",
    "\n",
    "print(len(w_list))\n",
    "print(len(x_list))\n",
    "print(len(y_list))\n",
    "print(len(z_list))"
   ]
  },
  {
   "cell_type": "code",
   "execution_count": 66,
   "metadata": {},
   "outputs": [
    {
     "name": "stdout",
     "output_type": "stream",
     "text": [
      "Number of records: 5956\n",
      "5956\n",
      "5956\n",
      "5956\n",
      "<bound method Counter.most_common of Counter({'Andropadus importunus': 97, 'Telophorus zeylonus': 94, 'Anthus crenatus': 73, 'Cossypha caffra': 72, 'Laniarius ferrugineus': 65, 'Cercotrichas leucophrys': 60, 'Prinia maculosa': 59, 'Camaroptera brachyura': 58, 'Sylvia subcaerulea': 49, 'Chlorophoneus olivaceus': 45, 'Cinnyris chalybeus': 45, 'Cisticola chiniana': 43, 'Oriolus larvatus': 39, 'Dryoscopus cubla': 39, 'Streptopelia capicola': 39, 'Mirafra africana': 39, 'Apalis thoracica': 38, 'Mystery mystery': 38, 'Bradypterus sylvaticus': 37, 'Calendulauda sabota': 37, 'Sylvietta rufescens': 37, 'Cercotrichas coryphoeus': 36, 'Anthus cinnamomeus': 34, 'Mirafra fasciolata': 34, 'Batis capensis': 33, 'Cisticola tinniens': 33, 'Zosterops virens': 33, 'Chlorophoneus sulfureopectus': 32, 'Cercotrichas signata': 32, 'Terpsiphone viridis': 31, 'Calandrella cinerea': 31, 'Numida meleagris': 30, 'Cossypha natalensis': 30, 'Phoeniculus purpureus': 29, 'Cisticola subruficapilla': 29, 'Pycnonotus tricolor': 29, 'Bradypterus baboecala': 29, 'Bostrychia hagedash': 28, 'Nectarinia famosa': 28, 'Prinia subflava': 28, 'Caprimulgus pectoralis': 28, 'Cuculus clamosus': 28, 'Sphenoeacus afer': 28, 'Emberiza flaviventris': 28, 'Cyanomitra veroxii': 27, 'Bradypterus barratti': 27, 'Cossypha dichroa': 27, 'Mirafra apiata': 27, 'Trachyphonus vaillantii': 26, 'Hedydipna collaris': 26, 'Cisticola textrix': 26, 'Geokichla gurneyi': 26, 'Acrocephalus baeticatus': 26, 'Cryptillas victorini': 26, 'Jynx ruficollis': 25, 'Nilaus afer': 25, 'Cinnyris talatala': 25, 'Phragmacia substriata': 25, 'Galerida magnirostris': 25, 'Acrocephalus palustris': 25, 'Turdus olivaceus': 24, 'Myrmecocichla formicivora': 24, 'Emberiza capensis': 24, 'Pternistis natalensis': 23, 'Stenostira scita': 23, 'Sylvia layardi': 23, 'Vanellus armatus': 23, 'Streptopelia semitorquata': 23, 'Macronyx capensis': 23, 'Melaenornis silens': 23, 'Mirafra passerina': 23, 'Batis molitor': 22, 'Malaconotus blanchoti': 22, 'Lanius collaris': 22, 'Tchagra senegalus': 22, 'Ploceus bicolor': 22, 'Cisticola lais': 22, 'Grus paradisea': 22, 'Turtur chalcospilos': 22, 'Tauraco porphyreolophus': 22, 'Centropus burchellii': 22, 'Cuculus solitarius': 22, 'Certhilauda subcoronata': 22, 'Calendulauda albescens': 22, 'Euplectes orix': 21, 'Melaniparus niger': 21, 'Dendroperdix sephaena': 20, 'Dicrurus adsimilis': 20, 'Passer melanurus': 20, 'Cisticola ayresii': 20, 'Motacilla capensis': 20, 'Monticola rupestris': 20, 'Mirafra cheniana': 20, 'Pycnonotus capensis': 20, 'Phyllastrephus terrestris': 20, 'Eupodotis vigorsii': 19, 'Cyanomitra olivacea': 19, 'Apalis flavida': 19, 'Cisticola aberrans': 19, 'Malcorus pectoralis': 19, 'Promerops cafer': 19, 'Sarothrura elegans': 19, 'Afrotis afraoides': 19, 'Crithagra flaviventris': 19, 'Chrysococcyx caprius': 19, 'Melaniparus cinerascens': 19, 'Pycnonotus nigricans': 19, 'Cisticola juncidis': 18, 'Halcyon albiventris': 18, 'Philetairus socius': 17, 'Eremomela gregalis': 17, 'Notopholia corrusca': 17, 'Crithagra scotops': 17, 'Apaloderma narina': 17, 'Merops apiaster': 17, 'Corythaixoides concolor': 17, 'Otus senegalensis': 17, 'Muscicapa caerulescens': 17, 'Muscicapa adusta': 17, 'Anthoscopus minutus': 17, 'Melaniparus afer': 17, 'Alopochen aegyptiaca': 16, 'Tachybaptus ruficollis': 16, 'Lophotis ruficrista': 16, 'Batis pririt': 16, 'Passer diffusus': 16, 'Cisticola fulvicapilla': 16, 'Turdoides jardineii': 16, 'Anthus similis': 16, 'Cossypha heuglini': 16, 'Cecropis cucullata': 16, 'Pternistis swainsonii': 15, 'Poicephalus robustus': 15, 'Trochocercus cyanomelas': 15, 'Cinnyris afer': 15, 'Crithagra sulphurata': 15, 'Halcyon senegalensis': 15, 'Acrocephalus arundinaceus': 15, 'Acrocephalus gracilirostris': 15, 'Spheniscus demersus': 14, 'Lybius torquatus': 14, 'Dendropicos fuscescens': 14, 'Ploceus capensis': 14, 'Plocepasser mahali': 14, 'Cinnyris fuscus': 14, 'Euplectes progne': 14, 'Turdus libonyana': 14, 'Geokichla guttata': 14, 'Amaurornis flavirostra': 14, 'Crithagra mozambica': 14, 'Coccopygia melanotis': 14, 'Scleroptila levaillantii': 13, 'Scleroptila afra': 13, 'Gymnoris superciliaris': 13, 'Ploceus velatus': 13, 'Vanellus melanopterus': 13, 'Gallinula chloropus': 13, 'Upupa africana': 13, 'Bubo africanus': 13, 'Tauraco corythaix': 13, 'Cossypha humeralis': 13, 'Certhilauda semitorquata': 13, 'Iduna natalensis': 13, 'Petrochelidon spilodera': 13, 'Pternistis capensis': 12, 'Tadorna cana': 12, 'Anas undulata': 12, 'Rhinopomastus cyanomelas': 12, 'Tricholaema leucomelas': 12, 'Pogoniulus bilineatus': 12, 'Pogoniulus pusillus': 12, 'Telophorus quadricolor': 12, 'Corvus albicollis': 12, 'Dicrurus ludwigii': 12, 'Euplectes capensis': 12, 'Prinia flavicans': 12, 'Burhinus capensis': 12, 'Burhinus vermiculatus': 12, 'Ortygospiza atricollis': 12, 'Thamnolaea cinnamomeiventris': 12, 'Cecropis abyssinica': 12, 'Scleroptila gutturalis': 11, 'Bycanistes bucinator': 11, 'Tchagra tchagra': 11, 'Ploceus ocularis': 11, 'Chalcomitra amethystina': 11, 'Lamprotornis nitens': 11, 'Turdus smithi': 11, 'Sarothrura rufa': 11, 'Motacilla aguimp': 11, 'Estrilda astrild': 11, 'Urocolius indicus': 11, 'Colius striatus': 11, 'Apus affinis': 11, 'Saxicola torquatus': 11, 'Coturnix coturnix': 10, 'Tockus leucomelas': 10, 'Laniarius atrococcineus': 10, 'Urolestes melanoleucus': 10, 'Buphagus erythrorhynchus': 10, 'Onychognathus morio': 10, 'Creatophora cinerea': 10, 'Afrotis afra': 10, 'Turnix sylvaticus': 10, 'Spilopelia senegalensis': 10, 'Rhinoptilus africanus': 10, 'Pterocles namaqua': 10, 'Anthus chloris': 10, 'Ceryle rudis': 10, 'Glaucidium capense': 10, 'Strix woodfordii': 10, 'Clamator jacobinus': 10, 'Melaenornis pammelaina': 10, 'Certhilauda curvirostris': 10, 'Phylloscopus ruficapilla': 10, 'Phylloscopus trochilus': 10, 'Eupodotis caerulescens': 9, 'Accipiter melanoleucus': 9, 'Indicator variegatus': 9, 'Corvus albus': 9, 'Sporopipes squamifrons': 9, 'Cinnyris mariquensis': 9, 'Cisticola aridulus': 9, 'Prinia hypoxantha': 9, 'Lamprotornis bicolor': 9, 'Vanellus coronatus': 9, 'Himantopus himantopus': 9, 'Fulica cristata': 9, 'Fringilla coelebs': 9, 'Cercotrichas quadrivirgata': 9, 'Emarginata sinuata': 9, 'Oenanthe pileata': 9, 'Certhilauda brevirostris': 9, 'Hirundo rustica': 9, 'Dendrocygna viduata': 8, 'Accipiter tachiro': 8, 'Stephanoaetus coronatus': 8, 'Campethera abingoni': 8, 'Dendropicos griseocephalus': 8, 'Poicephalus cryptoxanthus': 8, 'Campethera notata': 8, 'Corvus capensis': 8, 'Ploceus intermedius': 8, 'Apalis ruddi': 8, 'Cisticola erythrops': 8, 'Lamprotornis australis': 8, 'Haematopus moquini': 8, 'Turtur tympanistria': 8, 'Motacilla clara': 8, 'Caprimulgus rufigena': 8, 'Chrysococcyx klaas': 8, 'Apus barbatus': 8, 'Emarginata schlegelii': 8, 'Chersomanes albofasciata': 8, 'Bubulcus ibis': 7, 'Morus capensis': 7, 'Indicator minor': 7, 'Tockus rufirostris': 7, 'Lophoceros nasutus': 7, 'Geocolaptes olivaceus': 7, 'Lagonosticta rubricata': 7, 'Quelea quelea': 7, 'Lioptilus nigricapillus': 7, 'Promerops gurneyi': 7, 'Sarothrura affinis': 7, 'Tauraco livingstonii': 7, 'Oena capensis': 7, 'Charadrius tricollaris': 7, 'Vidua funerea': 7, 'Colius colius': 7, 'Chrysococcyx cupreus': 7, 'Myrmecocichla monticola': 7, 'Certhilauda chuana': 7, 'Calendulauda burra': 7, 'Chlorocichla flaviventris': 7, 'Hirundo albigularis': 7, 'Lophaetus occipitalis': 6, 'Anas smithii': 6, 'Anhinga rufa': 6, 'Buteo rufofuscus': 6, 'Haliaeetus vocifer': 6, 'Ardea cinerea': 6, 'Scleroptila shelleyi': 6, 'Lophoceros alboterminatus': 6, 'Campephaga flava': 6, 'Eurocephalus anguitimens': 6, 'Chaetops aurantius': 6, 'Amadina erythrocephala': 6, 'Anthobaphes violacea': 6, 'Chalcomitra senegalensis': 6, 'Ploceus cucullatus': 6, 'Euplectes afer': 6, 'Euryptila subcinnamomea': 6, 'Sturnus vulgaris': 6, 'Calamonastes stierlingi': 6, 'Onychognathus nabouroup': 6, 'Treron calvus': 6, 'Charadrius pallidus': 6, 'Chroicocephalus hartlaubii': 6, 'Macronyx croceus': 6, 'Vidua chalybeata': 6, 'Vidua macroura': 6, 'Uraeginthus angolensis': 6, 'Anthus leucophrys': 6, 'Alcedo semitorquata': 6, 'Tyto alba': 6, 'Cercotrichas paena': 6, 'Campicoloides bifasciatus': 6, 'Nicator gularis': 6, 'Hippolais icterina': 6, 'Phyllastrephus flavostriatus': 6, 'Ardea alba': 5, 'Eupodotis senegalensis': 5, 'Buteo trizonatus': 5, 'Coturnix delegorguei': 5, 'Nycticorax nycticorax': 5, 'Chlorophoneus nigrifrons': 5, 'Prionops retzii': 5, 'Dendropicos namaquus': 5, 'Indicator indicator': 5, 'Coracina caesia': 5, 'Lanius collurio': 5, 'Tchagra australis': 5, 'Cinnyris bifasciatus': 5, 'Eremomela usticollis': 5, 'Zosterops pallidus': 5, 'Camaroptera brevicaudata': 5, 'Columba arquatrix': 5, 'Balearica regulorum': 5, 'Rallus caerulescens': 5, 'Pluvialis squatarola': 5, 'Vanellus senegallus': 5, 'Gallinago nigripennis': 5, 'Columba guinea': 5, 'Lonchura cucullata': 5, 'Ceuthmochares australis': 5, 'Tachymarptis melba': 5, 'Clamator glandarius': 5, 'Pogonocichla stellata': 5, 'Myioparus plumbeus': 5, 'Riparia cincta': 5, 'Peliperdix coqui': 4, 'Phoenicopterus roseus': 4, 'Scopus umbretta': 4, 'Melierax canorus': 4, 'Ardea purpurea': 4, 'Micronisus gabar': 4, 'Psittacula krameri': 4, 'Chaetops frenatus': 4, 'Passer domesticus': 4, 'Amblyospiza albifrons': 4, 'Lagonosticta senegala': 4, 'Euplectes ardens': 4, 'Sylvia borin': 4, 'Turdoides bicolor': 4, 'Eremomela icteropygialis': 4, 'Thalasseus bergii': 4, 'Larus dominicanus': 4, 'Sterna dougallii': 4, 'Streptopelia decipiens': 4, 'Columba delegorguei': 4, 'Tringa glareola': 4, 'Crithagra symonsi': 4, 'Caprimulgus tristigma': 4, 'Glaucidium perlatum': 4, 'Eurystomus glaucurus': 4, 'Merops bullockoides': 4, 'Clamator levaillantii': 4, 'Muscicapa striata': 4, 'Oenanthe familiaris': 4, 'Luscinia luscinia': 4, 'Mirafra rufocinnamomea': 4, 'Eremopterix verticalis': 4, 'Calendulauda africanoides': 4, 'Hippolais olivetorum': 4, 'Hirundo dimidiata': 4, 'Ardea melanocephala': 3, 'Plectropterus gambensis': 3, 'Egretta garzetta': 3, 'Phalacrocorax capensis': 3, 'Elanus caeruleus': 3, 'Platalea alba': 3, 'Aquila verreauxii': 3, 'Ardeotis kori': 3, 'Phalacrocorax lucidus': 3, 'Guttera pucherani': 3, 'Struthio camelus': 3, 'Ixobrychus minutus': 3, 'Hieraaetus pennatus': 3, 'Falco rupicolus': 3, 'Falco rupicoloides': 3, 'Stactolaema olivacea': 3, 'Prionops plumatus': 3, 'Prodotiscus regulus': 3, 'Bucorvus leadbeateri': 3, 'Platysteira peltata': 3, 'Batis fratrum': 3, 'Laniarius major': 3, 'Lanius minor': 3, 'Bubalornis niger': 3, 'Hypargos margaritatus': 3, 'Lagonosticta rhodopareia': 3, 'Ploceus xanthopterus': 3, 'Euplectes albonotatus': 3, 'Schoenicola brevirostris': 3, 'Cisticola natalensis': 3, 'Acridotheres tristis': 3, 'Cinnyricinclus leucogaster': 3, 'Buphagus africanus': 3, 'Lissotis melanogaster': 3, 'Chroicocephalus cirrocephalus': 3, 'Actophilornis africanus': 3, 'Columba larvata': 3, 'Recurvirostra avosetta': 3, 'Numenius phaeopus': 3, 'Actitis hypoleucos': 3, 'Anthus lineiventris': 3, 'Vidua purpurascens': 3, 'Estrilda erythronotos': 3, 'Merops hirundineus': 3, 'Merops persicus': 3, 'Apus caffer': 3, 'Coracias caudatus': 3, 'Cypsiurus parvus': 3, 'Bubo lacteus': 3, 'Emarginata tractrac': 3, 'Melaenornis infuscatus': 3, 'Spizocorys conirostris': 3, 'Calendulauda barlowi': 3, 'Heteromirafra ruddi': 3, 'Spizocorys sclateri': 3, 'Acrocephalus schoenobaenus': 3, 'Ptyonoprogne fuligula': 3, 'Sonus naturalis': 3, 'Threskiornis aethiopicus': 2, 'Pternistis afer': 2, 'Anas capensis': 2, 'Polyboroides typus': 2, 'Melierax metabates': 2, 'Ardeola ralloides': 2, 'Anas sparsa': 2, 'Milvus aegyptius': 2, 'Circus maurus': 2, 'Polemaetus bellicosus': 2, 'Butorides striata': 2, 'Oxyura maccoa': 2, 'Pavo cristatus': 2, 'Poicephalus fuscicollis': 2, 'Pogoniulus chrysoconus': 2, 'Smithornis capensis': 2, 'Poicephalus meyeri': 2, 'Falco amurensis': 2, 'Stactolaema leucotis': 2, 'Oriolus oriolus': 2, 'Ploceus xanthops': 2, 'Amadina fasciata': 2, 'Ploceus subaureus': 2, 'Cisticola cinnamomeus': 2, 'Lamprotornis chalybaeus': 2, 'Turdus litsitsirupa': 2, 'Zosterops senegalensis': 2, 'Eremomela scotops': 2, 'Calamonastes fasciolatus': 2, 'Sylvia communis': 2, 'Lamprotornis mevesii': 2, 'Sterna vittata': 2, 'Podica senegalensis': 2, 'Chlidonias hybrida': 2, 'Sternula balaenarum': 2, 'Turnix nanus': 2, 'Tringa nebularia': 2, 'Crithagra atrogularis': 2, 'Crithagra totta': 2, 'Anthus brachyurus': 2, 'Anthus caffer': 2, 'Uraeginthus granatinus': 2, 'Merops nubicoides': 2, 'Merops pusillus': 2, 'Corythornis cristatus': 2, 'Megaceryle maxima': 2, 'Halcyon chelicuti': 2, 'Ptilopsis granti': 2, 'Melaenornis mariquensis': 2, 'Anthoscopus caroli': 2, 'Eremopterix australis': 2, 'Psalidoprocne pristoptera': 2, 'Pseudhirundo griseopyga': 2, 'Gyps coprotheres': 1, 'Sagittarius serpentarius': 1, 'Anas erythrorhyncha': 1, 'Ardea goliath': 1, 'Hieraaetus wahlbergi': 1, 'Accipiter ovampensis': 1, 'Plegadis falcinellus': 1, 'Puffinus gravis': 1, 'Buteo buteo': 1, 'Aviceda cuculoides': 1, 'Phoeniconaias minor': 1, 'Dendrocygna bicolor': 1, 'Accipiter rufiventris': 1, 'Agapornis roseicollis': 1, 'Falco fasciinucha': 1, 'Campethera bennettii': 1, 'Falco peregrinus': 1, 'Corvus splendens': 1, 'Oriolus auratus': 1, 'Passer motitensis': 1, 'Cinnyris neergaardi': 1, 'Pytilia melba': 1, 'Mandingoa nitidula': 1, 'Euplectes axillaris': 1, 'Cisticola galactotes': 1, 'Cisticola rufilatus': 1, 'Sylvia atricapilla': 1, 'Pterocles bicinctus': 1, 'Glareola nordmanni': 1, 'Aenigmatolimnas marginalis': 1, 'Vanellus lugubris': 1, 'Calidris minuta': 1, 'Sternula albifrons': 1, 'Pterocles gutturalis': 1, 'Charadrius pecuarius': 1, 'Charadrius hiaticula': 1, 'Charadrius marginatus': 1, 'Tringa totanus': 1, 'Rhinoptilus chalcopterus': 1, 'Cursorius rufus': 1, 'Onychoprion fuscatus': 1, 'Turnix hottentottus': 1, 'Calidris ferruginea': 1, 'Porzana pusilla': 1, 'Chlidonias leucopterus': 1, 'Vanellus albiceps': 1, 'Hydroprogne caspia': 1, 'Vidua paradisaea': 1, 'Crithagra gularis': 1, 'Lonchura nigriceps': 1, 'Tyto capensis': 1, 'Centropus superciliosus': 1, 'Centropus grillii': 1, 'Ispidina picta': 1, 'Coracias naevius': 1, 'Monticola explorator': 1, 'Anthreptes reichenowi': 1, 'Spizocorys fringillaris': 1, 'Eremopterix leucotis': 1, 'Riparia paludicola': 1, 'Cecropis semirufa': 1, 'Hippolais languida': 1, 'Acrocephalus scirpaceus': 1, 'Delichon urbicum': 1, 'Locustella fluviatilis': 1})>\n"
     ]
    }
   ],
   "source": [
    "greatest_hits = glob.glob(\"/home/iordan/Documents/Bird Life/*/*.mp3\")\n",
    "number_records = len(greatest_hits)\n",
    "print(\"Number of records: \" + str(number_records))  #minus folders\n",
    "\n",
    "\n",
    "genus_list = []  \n",
    "name_list = [] \n",
    "id_list = []  \n",
    "count = 0;\n",
    "for current_recording in greatest_hits:\n",
    "    count += 1\n",
    "    index = current_recording.rfind('/') + 1\n",
    "    current_recording = current_recording[index:-4]\n",
    "    if len(current_recording.split('-')) > 4:\n",
    "        record = current_recording.split('-')\n",
    "        genus = record[0] + ' ' + record[1]\n",
    "        id_number = record[-1]\n",
    "        del record[0]\n",
    "        del record[1]\n",
    "        del record[-1]\n",
    "        name = ''.join(record)\n",
    "        genus_list.append(genus)\n",
    "        id_list.append(id_number)\n",
    "        name_list.append(name)\n",
    "    else:\n",
    "        genus_1, genus_2, name, id_number = current_recording.split('-')\n",
    "        genus_list.append(genus_1 + ' ' + genus_2)\n",
    "        name_list.append(name)\n",
    "        id_list.append(id_number)\n",
    "\n",
    "print(len(genus_list))\n",
    "print(len(name_list))\n",
    "print(len(id_list))\n",
    "\n",
    "distinct_genus = Counter(genus_list)\n",
    "print(distinct_genus.most_common)\n",
    "#for k,v in distinct_genus.items():\n",
    "#    print(k,v)"
   ]
  },
  {
   "cell_type": "code",
   "execution_count": null,
   "metadata": {},
   "outputs": [],
   "source": []
  }
 ],
 "metadata": {
  "kernelspec": {
   "display_name": "Python 3",
   "language": "python",
   "name": "python3"
  },
  "language_info": {
   "codemirror_mode": {
    "name": "ipython",
    "version": 3
   },
   "file_extension": ".py",
   "mimetype": "text/x-python",
   "name": "python",
   "nbconvert_exporter": "python",
   "pygments_lexer": "ipython3",
   "version": "3.6.5"
  }
 },
 "nbformat": 4,
 "nbformat_minor": 2
}
